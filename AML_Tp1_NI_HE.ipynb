{
 "cells": [
  {
   "cell_type": "markdown",
   "metadata": {},
   "source": [
    "# Part1"
   ]
  },
  {
   "cell_type": "markdown",
   "metadata": {},
   "source": [
    "## 123"
   ]
  },
  {
   "cell_type": "code",
   "execution_count": 1,
   "metadata": {},
   "outputs": [],
   "source": [
    "from sklearn.metrics.pairwise import euclidean_distances\n",
    "from sklearn.datasets import load_iris\n",
    "import numpy as np\n",
    "import matplotlib.pyplot as plt\n",
    "import math\n",
    "iris_dataset = load_iris()\n",
    "data = iris_dataset['data']\n",
    "target = iris_dataset['target'] \n",
    "\n",
    "X_train = np.array(data)   \n",
    "y_train = np.array(target)\n"
   ]
  },
  {
   "cell_type": "code",
   "execution_count": 2,
   "metadata": {},
   "outputs": [],
   "source": [
    "def My_KNN(X_train,y_train,k,test,current_list):#K is a random value but can only be an odd number to facilitate judgement\n",
    "    distances=[]\n",
    "    #for loop to find the distance between the test data and each point of the training set\n",
    "    for x_train in X_train:\n",
    "        d = math.sqrt(np.sum((x_train[0]-X_test[0])**2+(x_train[1]-X_test[1])**2))\n",
    "        distances.append(d)\n",
    "    nearest = np.argsort(distances) # return index after sorting from smallest to largest\n",
    "    near_y = [y_train[i] for i in nearest[:k]]\n",
    "    for vote in near_y: #for loop to select the y value with the most occurrences in the array\n",
    "        a=0\n",
    "        b=0\n",
    "        c=0\n",
    "        vote_out = 0\n",
    "        if vote == 0:\n",
    "            a+=1\n",
    "        elif vote == 1:\n",
    "            b+=1\n",
    "        else:\n",
    "            c+=1\n",
    "        if b>(c or a):\n",
    "            vote_out = 1\n",
    "        elif c>( b or a):\n",
    "            vote_out = 2\n",
    "        else:\n",
    "            vote_out = 0\n",
    "\n",
    "    if vote_out == y_train[test]:\n",
    "        current_list.append(1)\n",
    "    else:\n",
    "        current_list.append(0)\n",
    "    #print(vote_out,y_train[test])"
   ]
  },
  {
   "cell_type": "code",
   "execution_count": 3,
   "metadata": {},
   "outputs": [
    {
     "name": "stdout",
     "output_type": "stream",
     "text": [
      "\n",
      "In a sample of 150 sets of data, K is 5 and the accuracy of its algorithm prediction is 0.7333333333333333\n",
      "\n"
     ]
    }
   ],
   "source": [
    "#Calculate the accurate\n",
    "current_list=[]\n",
    "count = 0\n",
    "k = 5\n",
    "test = 0\n",
    "for i in range(data.shape[0]):\n",
    "    X_test = iris_dataset['data'][test]\n",
    "    My_KNN(X_train,y_train,k,test,current_list)\n",
    "    count+=1\n",
    "    test +=1\n",
    "current_list\n",
    "percent = sum(current_list)/len(current_list) #因为数组内只有0和1 所以数组内元素相加/数组长度就是正确率\n",
    "print(\"\"\"\n",
    "In a sample of {0} sets of data, K is {1} and the accuracy of its algorithm prediction is {2}\n",
    "\"\"\".format(count,k,percent))"
   ]
  },
  {
   "cell_type": "markdown",
   "metadata": {},
   "source": [
    "## 5"
   ]
  },
  {
   "cell_type": "code",
   "execution_count": 4,
   "metadata": {},
   "outputs": [
    {
     "name": "stdout",
     "output_type": "stream",
     "text": [
      "\n",
      "    In a sample of 150 sets of data, K is 1 and the accuracy of its algorithm prediction is 0.92\n",
      "    \n",
      "\n",
      "    In a sample of 150 sets of data, K is 2 and the accuracy of its algorithm prediction is 0.7733333333333333\n",
      "    \n",
      "\n",
      "    In a sample of 150 sets of data, K is 3 and the accuracy of its algorithm prediction is 0.74\n",
      "    \n",
      "\n",
      "    In a sample of 150 sets of data, K is 4 and the accuracy of its algorithm prediction is 0.7333333333333333\n",
      "    \n",
      "\n",
      "    In a sample of 150 sets of data, K is 5 and the accuracy of its algorithm prediction is 0.7333333333333333\n",
      "    \n",
      "\n",
      "    In a sample of 150 sets of data, K is 6 and the accuracy of its algorithm prediction is 0.7266666666666667\n",
      "    \n",
      "\n",
      "    In a sample of 150 sets of data, K is 7 and the accuracy of its algorithm prediction is 0.72\n",
      "    \n",
      "\n",
      "    In a sample of 150 sets of data, K is 8 and the accuracy of its algorithm prediction is 0.7466666666666667\n",
      "    \n",
      "\n",
      "    In a sample of 150 sets of data, K is 9 and the accuracy of its algorithm prediction is 0.68\n",
      "    \n"
     ]
    }
   ],
   "source": [
    "for k in range(1,10):\n",
    "    current_list=[]\n",
    "    count = 0\n",
    "    test = 0\n",
    "    for i in range(data.shape[0]):\n",
    "        X_test = iris_dataset['data'][test]\n",
    "        My_KNN(X_train,y_train,k,test,current_list)\n",
    "        count+=1\n",
    "        test +=1\n",
    "        current_list\n",
    "        percent = sum(current_list)/len(current_list) #因为数组内只有0和1 所以数组内元素相加/数组长度就是正确率\n",
    "    print(\"\"\"\n",
    "    In a sample of {0} sets of data, K is {1} and the accuracy of its algorithm prediction is {2}\n",
    "    \"\"\".format(count,k,percent))"
   ]
  },
  {
   "cell_type": "markdown",
   "metadata": {},
   "source": [
    "## 4"
   ]
  },
  {
   "cell_type": "code",
   "execution_count": 5,
   "metadata": {},
   "outputs": [
    {
     "name": "stdout",
     "output_type": "stream",
     "text": [
      "the accuracy of KNN from sklearn is %s 0.98\n"
     ]
    }
   ],
   "source": [
    "from sklearn.neighbors import KNeighborsClassifier\n",
    "from sklearn.model_selection import train_test_split\n",
    "X_train, X_test, y_train, y_test = train_test_split(data, target, test_size=0.33, random_state=42)\n",
    "neigh = KNeighborsClassifier(n_neighbors=5)\n",
    "neigh.fit(X_train,y_train)\n",
    "\n",
    "y_pred= neigh.predict(X_test)\n",
    "#y_pred   \n",
    "y_all=y_pred-y_test\n",
    "c=np.sum(y_all == 0)\n",
    "print(\"the accuracy of KNN from sklearn is %s\",c/len(X_test))"
   ]
  },
  {
   "cell_type": "markdown",
   "metadata": {},
   "source": [
    "# Part2"
   ]
  },
  {
   "cell_type": "code",
   "execution_count": 6,
   "metadata": {},
   "outputs": [],
   "source": [
    "from sklearn.svm import SVC\n",
    "from sklearn.naive_bayes import GaussianNB\n",
    "from sklearn import tree\n",
    "from sklearn.model_selection import cross_val_score\n",
    "from sklearn.metrics import confusion_matrix\n",
    "#SVM \n",
    "#NB\n",
    "#DT\n",
    "#prediction\n",
    "#confusion matrix"
   ]
  },
  {
   "cell_type": "code",
   "execution_count": 7,
   "metadata": {},
   "outputs": [],
   "source": [
    "data_train,data_test,target_train,target_test=train_test_split(data,target,test_size=0.3,random_state=0)"
   ]
  },
  {
   "cell_type": "markdown",
   "metadata": {},
   "source": [
    "## SVM"
   ]
  },
  {
   "cell_type": "code",
   "execution_count": 8,
   "metadata": {},
   "outputs": [
    {
     "name": "stdout",
     "output_type": "stream",
     "text": [
      "SVM accuracy is： 0.9777777777777777\n"
     ]
    },
    {
     "data": {
      "text/plain": [
       "array([[16,  0,  0],\n",
       "       [ 0, 17,  1],\n",
       "       [ 0,  0, 11]], dtype=int64)"
      ]
     },
     "execution_count": 8,
     "metadata": {},
     "output_type": "execute_result"
    }
   ],
   "source": [
    "svm=SVC(kernel='rbf',gamma=0.1,decision_function_shape='ovo',C=0.8)#搭建模型，训练SVM分类器\n",
    "svm.fit(data_train,target_train)#训练SVC\n",
    "accurate_Svm=svm.score(data_test,target_test)\n",
    "y_pred = svm.predict(data_test)\n",
    "print('SVM accuracy is：',accurate_Svm)\n",
    "\n",
    "confusion_matrix(target_test,y_pred)\n"
   ]
  },
  {
   "cell_type": "code",
   "execution_count": 9,
   "metadata": {},
   "outputs": [
    {
     "name": "stdout",
     "output_type": "stream",
     "text": [
      "There were 16 predictions in category 1 that were correct.\n",
      "\n",
      "There were 17 predictions in category 2 that were correct. 1 predicted wrong, it predicted category 2 and actually category 3\"\n",
      "     \n",
      "There were 11 predictions in category 3 that were correct.\n"
     ]
    }
   ],
   "source": [
    "print(\"There were 16 predictions in category 1 that were correct.\\n\")\n",
    "print('''There were 17 predictions in category 2 that were correct. 1 predicted wrong, it predicted category 2 and actually category 3\"\n",
    "     ''')\n",
    "print(\"There were 11 predictions in category 3 that were correct.\")"
   ]
  },
  {
   "cell_type": "markdown",
   "metadata": {},
   "source": [
    "## NB"
   ]
  },
  {
   "cell_type": "code",
   "execution_count": 10,
   "metadata": {},
   "outputs": [
    {
     "name": "stdout",
     "output_type": "stream",
     "text": [
      "NB accuracy is： 1.0\n"
     ]
    },
    {
     "data": {
      "text/plain": [
       "array([[16,  0,  0],\n",
       "       [ 0, 18,  0],\n",
       "       [ 0,  0, 11]], dtype=int64)"
      ]
     },
     "execution_count": 10,
     "metadata": {},
     "output_type": "execute_result"
    }
   ],
   "source": [
    "nb=GaussianNB()\n",
    "nb.fit(data_train,target_train)\n",
    "accurate_Nb=nb.score(data_test,target_test)\n",
    "nb.predict(data_test)\n",
    "y_pred = nb.predict(data_test)\n",
    "print('NB accuracy is：',accurate_Nb)\n",
    "\n",
    "confusion_matrix(target_test,y_pred)"
   ]
  },
  {
   "cell_type": "code",
   "execution_count": 11,
   "metadata": {},
   "outputs": [
    {
     "name": "stdout",
     "output_type": "stream",
     "text": [
      "There were 16 predictions in category 1 that were correct.\n",
      "\n",
      "There were 18 predictions in category 2 that were correct\n",
      " \n",
      "There were 11 predictions in category 3 that were correct.\n"
     ]
    }
   ],
   "source": [
    "print(\"There were 16 predictions in category 1 that were correct.\\n\")\n",
    "print('''There were 18 predictions in category 2 that were correct\\n ''')\n",
    "print(\"There were 11 predictions in category 3 that were correct.\")"
   ]
  },
  {
   "cell_type": "markdown",
   "metadata": {},
   "source": [
    "## DT"
   ]
  },
  {
   "cell_type": "code",
   "execution_count": 12,
   "metadata": {},
   "outputs": [
    {
     "name": "stdout",
     "output_type": "stream",
     "text": [
      "DT accuracy is： 0.9777777777777777\n"
     ]
    },
    {
     "data": {
      "text/plain": [
       "array([[16,  0,  0],\n",
       "       [ 0, 17,  1],\n",
       "       [ 0,  0, 11]], dtype=int64)"
      ]
     },
     "execution_count": 12,
     "metadata": {},
     "output_type": "execute_result"
    }
   ],
   "source": [
    "iris = load_iris()\n",
    "DT = tree.DecisionTreeClassifier(max_depth=4)\n",
    "DT = DT.fit(data_train,target_train)\n",
    "accurate_DT = DT.score(data_test,target_test)\n",
    "y_pred = DT.predict(data_test)\n",
    "print('DT accuracy is：',accurate_DT)\n",
    "confusion_matrix(target_test,y_pred)"
   ]
  },
  {
   "cell_type": "code",
   "execution_count": 13,
   "metadata": {},
   "outputs": [
    {
     "name": "stdout",
     "output_type": "stream",
     "text": [
      "There were 16 predictions in category 1 that were correct.\n",
      "\n",
      "There were 17 predictions in category 2 that were correct. 1 predicted wrong, it predicted category 2 and actually category 3\"\n",
      "     \n",
      "There were 11 predictions in category 3 that were correct.\n"
     ]
    }
   ],
   "source": [
    "print(\"There were 16 predictions in category 1 that were correct.\\n\")\n",
    "print('''There were 17 predictions in category 2 that were correct. 1 predicted wrong, it predicted category 2 and actually category 3\"\n",
    "     ''')\n",
    "print(\"There were 11 predictions in category 3 that were correct.\")"
   ]
  },
  {
   "cell_type": "code",
   "execution_count": null,
   "metadata": {},
   "outputs": [],
   "source": []
  }
 ],
 "metadata": {
  "kernelspec": {
   "display_name": "Python 3",
   "language": "python",
   "name": "python3"
  },
  "language_info": {
   "codemirror_mode": {
    "name": "ipython",
    "version": 3
   },
   "file_extension": ".py",
   "mimetype": "text/x-python",
   "name": "python",
   "nbconvert_exporter": "python",
   "pygments_lexer": "ipython3",
   "version": "3.8.3"
  }
 },
 "nbformat": 4,
 "nbformat_minor": 4
}
